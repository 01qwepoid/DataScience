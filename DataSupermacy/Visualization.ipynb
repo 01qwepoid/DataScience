{
 "cells": [
  {
   "cell_type": "code",
   "execution_count": 1,
   "metadata": {},
   "outputs": [],
   "source": [
    "#import libraries\n",
    "\n",
    "import pandas as pd\n",
    "import numpy as np\n",
    "import matplotlib.pyplot as plt\n",
    "%matplotlib inline"
   ]
  },
  {
   "cell_type": "code",
   "execution_count": 17,
   "metadata": {},
   "outputs": [],
   "source": [
    "#import files\n",
    "\n",
    "trainorig = pd.read_csv('train_jqd04QH.csv')\n",
    "testorig = pd.read_csv('test_GYi4Gz5.csv')"
   ]
  },
  {
   "cell_type": "markdown",
   "metadata": {},
   "source": [
    "Explore the data --------------------------------------------------------------------------------------"
   ]
  },
  {
   "cell_type": "code",
   "execution_count": 14,
   "metadata": {},
   "outputs": [
    {
     "data": {
      "text/html": [
       "<div>\n",
       "<style scoped>\n",
       "    .dataframe tbody tr th:only-of-type {\n",
       "        vertical-align: middle;\n",
       "    }\n",
       "\n",
       "    .dataframe tbody tr th {\n",
       "        vertical-align: top;\n",
       "    }\n",
       "\n",
       "    .dataframe thead th {\n",
       "        text-align: right;\n",
       "    }\n",
       "</style>\n",
       "<table border=\"1\" class=\"dataframe\">\n",
       "  <thead>\n",
       "    <tr style=\"text-align: right;\">\n",
       "      <th></th>\n",
       "      <th>enrollee_id</th>\n",
       "      <th>city</th>\n",
       "      <th>city_development_index</th>\n",
       "      <th>gender</th>\n",
       "      <th>relevent_experience</th>\n",
       "      <th>enrolled_university</th>\n",
       "      <th>education_level</th>\n",
       "      <th>major_discipline</th>\n",
       "      <th>experience</th>\n",
       "      <th>company_size</th>\n",
       "      <th>company_type</th>\n",
       "      <th>last_new_job</th>\n",
       "      <th>training_hours</th>\n",
       "      <th>target</th>\n",
       "    </tr>\n",
       "  </thead>\n",
       "  <tbody>\n",
       "    <tr>\n",
       "      <th>0</th>\n",
       "      <td>23798</td>\n",
       "      <td>city_149</td>\n",
       "      <td>0.689</td>\n",
       "      <td>Male</td>\n",
       "      <td>Has relevent experience</td>\n",
       "      <td>no_enrollment</td>\n",
       "      <td>Graduate</td>\n",
       "      <td>STEM</td>\n",
       "      <td>3</td>\n",
       "      <td>100-500</td>\n",
       "      <td>Pvt Ltd</td>\n",
       "      <td>1</td>\n",
       "      <td>106</td>\n",
       "      <td>0</td>\n",
       "    </tr>\n",
       "    <tr>\n",
       "      <th>1</th>\n",
       "      <td>29166</td>\n",
       "      <td>city_83</td>\n",
       "      <td>0.923</td>\n",
       "      <td>Male</td>\n",
       "      <td>Has relevent experience</td>\n",
       "      <td>no_enrollment</td>\n",
       "      <td>Graduate</td>\n",
       "      <td>STEM</td>\n",
       "      <td>14</td>\n",
       "      <td>&lt;10</td>\n",
       "      <td>Funded Startup</td>\n",
       "      <td>1</td>\n",
       "      <td>69</td>\n",
       "      <td>0</td>\n",
       "    </tr>\n",
       "    <tr>\n",
       "      <th>2</th>\n",
       "      <td>46</td>\n",
       "      <td>city_16</td>\n",
       "      <td>0.910</td>\n",
       "      <td>NaN</td>\n",
       "      <td>Has relevent experience</td>\n",
       "      <td>no_enrollment</td>\n",
       "      <td>Graduate</td>\n",
       "      <td>STEM</td>\n",
       "      <td>6</td>\n",
       "      <td>50-99</td>\n",
       "      <td>Public Sector</td>\n",
       "      <td>2</td>\n",
       "      <td>4</td>\n",
       "      <td>0</td>\n",
       "    </tr>\n",
       "  </tbody>\n",
       "</table>\n",
       "</div>"
      ],
      "text/plain": [
       "   enrollee_id      city  city_development_index gender  \\\n",
       "0        23798  city_149                   0.689   Male   \n",
       "1        29166   city_83                   0.923   Male   \n",
       "2           46   city_16                   0.910    NaN   \n",
       "\n",
       "       relevent_experience enrolled_university education_level  \\\n",
       "0  Has relevent experience       no_enrollment        Graduate   \n",
       "1  Has relevent experience       no_enrollment        Graduate   \n",
       "2  Has relevent experience       no_enrollment        Graduate   \n",
       "\n",
       "  major_discipline experience company_size    company_type last_new_job  \\\n",
       "0             STEM          3      100-500         Pvt Ltd            1   \n",
       "1             STEM         14          <10  Funded Startup            1   \n",
       "2             STEM          6        50-99   Public Sector            2   \n",
       "\n",
       "   training_hours  target  \n",
       "0             106       0  \n",
       "1              69       0  \n",
       "2               4       0  "
      ]
     },
     "execution_count": 14,
     "metadata": {},
     "output_type": "execute_result"
    }
   ],
   "source": [
    "trainorig.head(3)"
   ]
  },
  {
   "cell_type": "code",
   "execution_count": 16,
   "metadata": {},
   "outputs": [
    {
     "name": "stdout",
     "output_type": "stream",
     "text": [
      "<class 'pandas.core.frame.DataFrame'>\n",
      "RangeIndex: 18359 entries, 0 to 18358\n",
      "Data columns (total 14 columns):\n",
      "enrollee_id               18359 non-null int64\n",
      "city                      18359 non-null object\n",
      "city_development_index    18359 non-null float64\n",
      "gender                    14261 non-null object\n",
      "relevent_experience       18359 non-null object\n",
      "enrolled_university       18017 non-null object\n",
      "education_level           17902 non-null object\n",
      "major_discipline          15521 non-null object\n",
      "experience                18300 non-null object\n",
      "company_size              13580 non-null object\n",
      "company_type              13320 non-null object\n",
      "last_new_job              17992 non-null object\n",
      "training_hours            18359 non-null int64\n",
      "target                    18359 non-null int64\n",
      "dtypes: float64(1), int64(3), object(10)\n",
      "memory usage: 2.0+ MB\n"
     ]
    }
   ],
   "source": [
    "trainorig.info()"
   ]
  },
  {
   "cell_type": "code",
   "execution_count": 15,
   "metadata": {},
   "outputs": [
    {
     "data": {
      "text/html": [
       "<div>\n",
       "<style scoped>\n",
       "    .dataframe tbody tr th:only-of-type {\n",
       "        vertical-align: middle;\n",
       "    }\n",
       "\n",
       "    .dataframe tbody tr th {\n",
       "        vertical-align: top;\n",
       "    }\n",
       "\n",
       "    .dataframe thead th {\n",
       "        text-align: right;\n",
       "    }\n",
       "</style>\n",
       "<table border=\"1\" class=\"dataframe\">\n",
       "  <thead>\n",
       "    <tr style=\"text-align: right;\">\n",
       "      <th></th>\n",
       "      <th>enrollee_id</th>\n",
       "      <th>city_development_index</th>\n",
       "      <th>training_hours</th>\n",
       "      <th>target</th>\n",
       "    </tr>\n",
       "  </thead>\n",
       "  <tbody>\n",
       "    <tr>\n",
       "      <th>count</th>\n",
       "      <td>18359.000000</td>\n",
       "      <td>18359.000000</td>\n",
       "      <td>18359.000000</td>\n",
       "      <td>18359.000000</td>\n",
       "    </tr>\n",
       "    <tr>\n",
       "      <th>mean</th>\n",
       "      <td>16729.360096</td>\n",
       "      <td>0.847140</td>\n",
       "      <td>65.899014</td>\n",
       "      <td>0.132088</td>\n",
       "    </tr>\n",
       "    <tr>\n",
       "      <th>std</th>\n",
       "      <td>9643.749725</td>\n",
       "      <td>0.110189</td>\n",
       "      <td>60.885300</td>\n",
       "      <td>0.338595</td>\n",
       "    </tr>\n",
       "    <tr>\n",
       "      <th>min</th>\n",
       "      <td>1.000000</td>\n",
       "      <td>0.448000</td>\n",
       "      <td>1.000000</td>\n",
       "      <td>0.000000</td>\n",
       "    </tr>\n",
       "    <tr>\n",
       "      <th>25%</th>\n",
       "      <td>8378.500000</td>\n",
       "      <td>0.796000</td>\n",
       "      <td>23.000000</td>\n",
       "      <td>0.000000</td>\n",
       "    </tr>\n",
       "    <tr>\n",
       "      <th>50%</th>\n",
       "      <td>16706.000000</td>\n",
       "      <td>0.910000</td>\n",
       "      <td>47.000000</td>\n",
       "      <td>0.000000</td>\n",
       "    </tr>\n",
       "    <tr>\n",
       "      <th>75%</th>\n",
       "      <td>25148.500000</td>\n",
       "      <td>0.920000</td>\n",
       "      <td>89.000000</td>\n",
       "      <td>0.000000</td>\n",
       "    </tr>\n",
       "    <tr>\n",
       "      <th>max</th>\n",
       "      <td>33380.000000</td>\n",
       "      <td>0.949000</td>\n",
       "      <td>336.000000</td>\n",
       "      <td>1.000000</td>\n",
       "    </tr>\n",
       "  </tbody>\n",
       "</table>\n",
       "</div>"
      ],
      "text/plain": [
       "        enrollee_id  city_development_index  training_hours        target\n",
       "count  18359.000000            18359.000000    18359.000000  18359.000000\n",
       "mean   16729.360096                0.847140       65.899014      0.132088\n",
       "std     9643.749725                0.110189       60.885300      0.338595\n",
       "min        1.000000                0.448000        1.000000      0.000000\n",
       "25%     8378.500000                0.796000       23.000000      0.000000\n",
       "50%    16706.000000                0.910000       47.000000      0.000000\n",
       "75%    25148.500000                0.920000       89.000000      0.000000\n",
       "max    33380.000000                0.949000      336.000000      1.000000"
      ]
     },
     "execution_count": 15,
     "metadata": {},
     "output_type": "execute_result"
    }
   ],
   "source": [
    "trainorig.describe()"
   ]
  },
  {
   "cell_type": "code",
   "execution_count": 22,
   "metadata": {},
   "outputs": [
    {
     "data": {
      "text/plain": [
       "123"
      ]
     },
     "execution_count": 22,
     "metadata": {},
     "output_type": "execute_result"
    }
   ],
   "source": [
    "#trainorig.city.unique\n",
    "trainorig['city'].nunique()"
   ]
  },
  {
   "cell_type": "code",
   "execution_count": 27,
   "metadata": {},
   "outputs": [
    {
     "data": {
      "text/plain": [
       "array(['city_149', 'city_83', 'city_16', 'city_64', 'city_100', 'city_21',\n",
       "       'city_114', 'city_103', 'city_97', 'city_160', 'city_65',\n",
       "       'city_90', 'city_75', 'city_136', 'city_159', 'city_67', 'city_28',\n",
       "       'city_10', 'city_73', 'city_76', 'city_104', 'city_27', 'city_30',\n",
       "       'city_61', 'city_99', 'city_41', 'city_142', 'city_9', 'city_116',\n",
       "       'city_128', 'city_74', 'city_69', 'city_1', 'city_176', 'city_40',\n",
       "       'city_123', 'city_152', 'city_165', 'city_89', 'city_36',\n",
       "       'city_44', 'city_46', 'city_45', 'city_134', 'city_93', 'city_180',\n",
       "       'city_162', 'city_84', 'city_138', 'city_173', 'city_19',\n",
       "       'city_71', 'city_158', 'city_23', 'city_102', 'city_105',\n",
       "       'city_91', 'city_11', 'city_13', 'city_57', 'city_20', 'city_14',\n",
       "       'city_37', 'city_115', 'city_50', 'city_167', 'city_12',\n",
       "       'city_143', 'city_126', 'city_77', 'city_101', 'city_150',\n",
       "       'city_179', 'city_107', 'city_175', 'city_146', 'city_98',\n",
       "       'city_166', 'city_118', 'city_129', 'city_127', 'city_24',\n",
       "       'city_81', 'city_26', 'city_139', 'city_94', 'city_70', 'city_145',\n",
       "       'city_157', 'city_111', 'city_78', 'city_80', 'city_33', 'city_7',\n",
       "       'city_72', 'city_43', 'city_144', 'city_39', 'city_59', 'city_48',\n",
       "       'city_131', 'city_121', 'city_141', 'city_42', 'city_117',\n",
       "       'city_55', 'city_54', 'city_8', 'city_62', 'city_53', 'city_106',\n",
       "       'city_155', 'city_133', 'city_171', 'city_2', 'city_120',\n",
       "       'city_18', 'city_79', 'city_31', 'city_109', 'city_25', 'city_82',\n",
       "       'city_140'], dtype=object)"
      ]
     },
     "execution_count": 27,
     "metadata": {},
     "output_type": "execute_result"
    }
   ],
   "source": [
    "trainorig['city'].unique()"
   ]
  },
  {
   "cell_type": "code",
   "execution_count": 30,
   "metadata": {},
   "outputs": [
    {
     "data": {
      "text/plain": [
       "3"
      ]
     },
     "execution_count": 30,
     "metadata": {},
     "output_type": "execute_result"
    }
   ],
   "source": [
    "#trainorig.city.unique\n",
    "trainorig['enrolled_university'].nunique()"
   ]
  },
  {
   "cell_type": "code",
   "execution_count": 32,
   "metadata": {},
   "outputs": [
    {
     "data": {
      "text/plain": [
       "array(['no_enrollment', 'Full time course', 'Part time course', nan],\n",
       "      dtype=object)"
      ]
     },
     "execution_count": 32,
     "metadata": {},
     "output_type": "execute_result"
    }
   ],
   "source": [
    "#trainorig.city.unique\n",
    "trainorig['enrolled_university'].unique()"
   ]
  },
  {
   "cell_type": "code",
   "execution_count": 33,
   "metadata": {},
   "outputs": [
    {
     "data": {
      "text/plain": [
       "5"
      ]
     },
     "execution_count": 33,
     "metadata": {},
     "output_type": "execute_result"
    }
   ],
   "source": [
    "#trainorig.city.unique\n",
    "trainorig['education_level'].nunique()"
   ]
  },
  {
   "cell_type": "code",
   "execution_count": 34,
   "metadata": {},
   "outputs": [
    {
     "data": {
      "text/plain": [
       "array(['Graduate', 'Masters', 'High School', 'Phd', nan, 'Primary School'],\n",
       "      dtype=object)"
      ]
     },
     "execution_count": 34,
     "metadata": {},
     "output_type": "execute_result"
    }
   ],
   "source": [
    "#trainorig.city.unique\n",
    "trainorig['education_level'].unique()"
   ]
  },
  {
   "cell_type": "code",
   "execution_count": 35,
   "metadata": {},
   "outputs": [
    {
     "data": {
      "text/plain": [
       "Index(['enrollee_id', 'city', 'city_development_index', 'gender',\n",
       "       'relevent_experience', 'enrolled_university', 'education_level',\n",
       "       'major_discipline', 'experience', 'company_size', 'company_type',\n",
       "       'last_new_job', 'training_hours', 'target'],\n",
       "      dtype='object')"
      ]
     },
     "execution_count": 35,
     "metadata": {},
     "output_type": "execute_result"
    }
   ],
   "source": []
  },
  {
   "cell_type": "code",
   "execution_count": 36,
   "metadata": {},
   "outputs": [
    {
     "data": {
      "text/plain": [
       "6"
      ]
     },
     "execution_count": 36,
     "metadata": {},
     "output_type": "execute_result"
    }
   ],
   "source": [
    "#trainorig.city.unique\n",
    "trainorig['major_discipline'].nunique()"
   ]
  },
  {
   "cell_type": "code",
   "execution_count": 37,
   "metadata": {},
   "outputs": [
    {
     "data": {
      "text/plain": [
       "array(['STEM', 'Other', 'No Major', nan, 'Business Degree', 'Arts',\n",
       "       'Humanities'], dtype=object)"
      ]
     },
     "execution_count": 37,
     "metadata": {},
     "output_type": "execute_result"
    }
   ],
   "source": [
    "#trainorig.city.unique\n",
    "trainorig['major_discipline'].unique()"
   ]
  },
  {
   "cell_type": "code",
   "execution_count": 38,
   "metadata": {},
   "outputs": [
    {
     "data": {
      "text/plain": [
       "22"
      ]
     },
     "execution_count": 38,
     "metadata": {},
     "output_type": "execute_result"
    }
   ],
   "source": [
    "#trainorig.city.unique\n",
    "trainorig['experience'].nunique()"
   ]
  },
  {
   "cell_type": "code",
   "execution_count": 39,
   "metadata": {},
   "outputs": [
    {
     "data": {
      "text/plain": [
       "array(['3', '14', '6', '8', '>20', '4', '9', '15', '10', '1', '5', '16',\n",
       "       '11', '12', '7', '2', '13', '<1', '19', '18', '17', nan, '20'],\n",
       "      dtype=object)"
      ]
     },
     "execution_count": 39,
     "metadata": {},
     "output_type": "execute_result"
    }
   ],
   "source": [
    "#trainorig.city.unique\n",
    "trainorig['experience'].unique()"
   ]
  },
  {
   "cell_type": "code",
   "execution_count": 40,
   "metadata": {},
   "outputs": [
    {
     "data": {
      "text/plain": [
       "8"
      ]
     },
     "execution_count": 40,
     "metadata": {},
     "output_type": "execute_result"
    }
   ],
   "source": [
    "#trainorig.city.unique\n",
    "trainorig['company_size'].nunique()"
   ]
  },
  {
   "cell_type": "code",
   "execution_count": 41,
   "metadata": {},
   "outputs": [
    {
     "data": {
      "text/plain": [
       "array(['100-500', '<10', '50-99', nan, '5000-9999', '10000+', '1000-4999',\n",
       "       '500-999', '10/49'], dtype=object)"
      ]
     },
     "execution_count": 41,
     "metadata": {},
     "output_type": "execute_result"
    }
   ],
   "source": [
    "#trainorig.city.unique\n",
    "trainorig['company_size'].unique()"
   ]
  },
  {
   "cell_type": "code",
   "execution_count": 42,
   "metadata": {},
   "outputs": [
    {
     "data": {
      "text/plain": [
       "6"
      ]
     },
     "execution_count": 42,
     "metadata": {},
     "output_type": "execute_result"
    }
   ],
   "source": [
    "#trainorig.city.unique\n",
    "trainorig['company_type'].nunique()"
   ]
  },
  {
   "cell_type": "code",
   "execution_count": 43,
   "metadata": {},
   "outputs": [
    {
     "data": {
      "text/plain": [
       "array(['Pvt Ltd', 'Funded Startup', 'Public Sector', nan,\n",
       "       'Early Stage Startup', 'NGO', 'Other'], dtype=object)"
      ]
     },
     "execution_count": 43,
     "metadata": {},
     "output_type": "execute_result"
    }
   ],
   "source": [
    "#trainorig.city.unique\n",
    "trainorig['company_type'].unique()"
   ]
  },
  {
   "cell_type": "code",
   "execution_count": 44,
   "metadata": {},
   "outputs": [
    {
     "data": {
      "text/plain": [
       "6"
      ]
     },
     "execution_count": 44,
     "metadata": {},
     "output_type": "execute_result"
    }
   ],
   "source": [
    "#trainorig.city.unique\n",
    "trainorig['last_new_job'].nunique()"
   ]
  },
  {
   "cell_type": "code",
   "execution_count": 45,
   "metadata": {},
   "outputs": [
    {
     "data": {
      "text/plain": [
       "array(['1', '2', '3', '>4', 'never', '4', nan], dtype=object)"
      ]
     },
     "execution_count": 45,
     "metadata": {},
     "output_type": "execute_result"
    }
   ],
   "source": [
    "#trainorig.city.unique\n",
    "trainorig['last_new_job'].unique()"
   ]
  },
  {
   "cell_type": "code",
   "execution_count": 46,
   "metadata": {},
   "outputs": [
    {
     "data": {
      "text/plain": [
       "241"
      ]
     },
     "execution_count": 46,
     "metadata": {},
     "output_type": "execute_result"
    }
   ],
   "source": [
    "#trainorig.city.unique\n",
    "trainorig['training_hours'].nunique()"
   ]
  },
  {
   "cell_type": "code",
   "execution_count": 47,
   "metadata": {},
   "outputs": [
    {
     "data": {
      "text/plain": [
       "array([106,  69,   4,  26,  88,  34,  23,   8,  10,  85,  55,  13,  51,\n",
       "        28,  35,  42,  45,  11,  12,  54,  89,  41, 298, 101, 114, 104,\n",
       "        53,  39,  20, 109,   3,  68, 262,  16,  22,  67,  43,   7,  30,\n",
       "         9, 112,  21, 166, 110,  18,  79,  98,  65,  61,  44, 170, 132,\n",
       "       145,  48,  46,  37,  86,  96,  33, 152, 168, 128, 102,   6,  50,\n",
       "        36,  90, 164,  56,  32,  17, 126,  72,  15,  80,  25,  31, 160,\n",
       "        66,  24, 200,  47,  83,  58,  29, 206,  14, 105,  91, 218,  75,\n",
       "        57,  19, 144,  92,  94, 184,  62, 140,  52, 258, 178, 270, 108,\n",
       "       157, 156, 123,  59,  82,  60,   2, 196,  95,  84,   5, 146, 202,\n",
       "       100, 111, 254,  27, 336,  64, 107,  76,  38, 134, 330, 204, 320,\n",
       "        74,  73,  40,  87, 316, 118, 122, 282, 248, 153, 147,  70, 131,\n",
       "       113, 216, 292,  81, 176,  78, 222, 163,  63, 280, 210, 294, 264,\n",
       "       155,  77,  97, 224, 180, 236, 125, 162, 116, 158, 256,  49,  71,\n",
       "       326,   1, 238, 124, 268, 214, 192, 232, 276, 165, 138, 310, 167,\n",
       "       288, 117,  99, 198, 240, 119, 136, 139, 150, 266, 220, 172, 133,\n",
       "       284, 272, 312, 306, 130, 154, 188, 174, 182, 332, 290, 120, 121,\n",
       "       328, 190, 308, 278, 322, 244, 324, 143, 194, 129, 103, 246, 127,\n",
       "       142, 151, 212, 300, 314, 135, 250, 234, 149, 141, 161, 148, 242,\n",
       "       226, 304, 228, 260, 286, 302, 334])"
      ]
     },
     "execution_count": 47,
     "metadata": {},
     "output_type": "execute_result"
    }
   ],
   "source": [
    "#trainorig.city.unique\n",
    "trainorig['training_hours'].unique()"
   ]
  },
  {
   "cell_type": "code",
   "execution_count": null,
   "metadata": {},
   "outputs": [],
   "source": []
  }
 ],
 "metadata": {
  "kernelspec": {
   "display_name": "Python 3",
   "language": "python",
   "name": "python3"
  },
  "language_info": {
   "codemirror_mode": {
    "name": "ipython",
    "version": 3
   },
   "file_extension": ".py",
   "mimetype": "text/x-python",
   "name": "python",
   "nbconvert_exporter": "python",
   "pygments_lexer": "ipython3",
   "version": "3.4.3"
  }
 },
 "nbformat": 4,
 "nbformat_minor": 2
}
