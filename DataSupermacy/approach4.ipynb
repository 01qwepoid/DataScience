{
 "cells": [
  {
   "cell_type": "code",
   "execution_count": 2,
   "metadata": {},
   "outputs": [],
   "source": [
    "#import libraries\n",
    "\n",
    "import pandas as pd\n",
    "import numpy as np\n",
    "import matplotlib.pyplot as plt\n",
    "%matplotlib inline\n",
    "import seaborn as sns\n",
    "import copy\n",
    "\n",
    "\n",
    "from sklearn.utils import resample"
   ]
  },
  {
   "cell_type": "code",
   "execution_count": 3,
   "metadata": {},
   "outputs": [],
   "source": [
    "#import files\n",
    "\n",
    "trainorig = pd.read_csv('train_jqd04QH.csv')\n",
    "testorig = pd.read_csv('test_GYi4Gz5.csv')"
   ]
  },
  {
   "cell_type": "code",
   "execution_count": 4,
   "metadata": {},
   "outputs": [],
   "source": [
    "trainafternadrop = copy.deepcopy(trainorig)"
   ]
  },
  {
   "cell_type": "code",
   "execution_count": 5,
   "metadata": {},
   "outputs": [],
   "source": [
    "testafternadrop = copy.deepcopy(testorig)"
   ]
  },
  {
   "cell_type": "code",
   "execution_count": 6,
   "metadata": {},
   "outputs": [],
   "source": [
    "# Imputing missing value in age variable with median and in trainee_engagement_rating variable with mode of that variable.\n",
    "trainafternadrop['gender'] = trainorig['gender'].fillna(trainorig['gender'].mode()[0])\n",
    "trainafternadrop['enrolled_university'] = trainorig['enrolled_university'].fillna(trainorig['enrolled_university'].mode()[0])\n",
    "trainafternadrop['education_level'] = trainorig['education_level'].fillna(trainorig['education_level'].mode()[0])\n",
    "trainafternadrop['major_discipline'] = trainorig['major_discipline'].fillna(trainorig['major_discipline'].mode()[0])\n",
    "trainafternadrop['experience'] = trainorig['experience'].fillna(trainorig['experience'].mode()[0])\n",
    "trainafternadrop['company_size'] = trainorig['company_size'].fillna(trainorig['company_size'].mode()[0])\n",
    "trainafternadrop['company_type'] = trainorig['company_type'].fillna(trainorig['company_type'].mode()[0])\n",
    "trainafternadrop['last_new_job'] = trainorig['last_new_job'].fillna(trainorig['last_new_job'].mode()[0])"
   ]
  },
  {
   "cell_type": "code",
   "execution_count": 7,
   "metadata": {},
   "outputs": [],
   "source": [
    "#do same for test\n",
    "testafternadrop['gender'] = testorig['gender'].fillna(trainorig['gender'].mode()[0])\n",
    "testafternadrop['enrolled_university'] = testorig['enrolled_university'].fillna(trainorig['enrolled_university'].mode()[0])\n",
    "testafternadrop['education_level'] = testorig['education_level'].fillna(trainorig['education_level'].mode()[0])\n",
    "testafternadrop['major_discipline'] = testorig['major_discipline'].fillna(trainorig['major_discipline'].mode()[0])\n",
    "testafternadrop['experience'] = testorig['experience'].fillna(trainorig['experience'].mode()[0])\n",
    "testafternadrop['company_size'] = testorig['company_size'].fillna(trainorig['company_size'].mode()[0])\n",
    "testafternadrop['company_type'] = testorig['company_type'].fillna(trainorig['company_type'].mode()[0])\n",
    "testafternadrop['last_new_job'] = testorig['last_new_job'].fillna(trainorig['last_new_job'].mode()[0])"
   ]
  },
  {
   "cell_type": "code",
   "execution_count": 8,
   "metadata": {},
   "outputs": [],
   "source": [
    "#deleting unnecessary column\n",
    "trainformodel=trainafternadrop.drop(['enrollee_id'], axis=1)\n",
    "testformodel=testafternadrop.drop(['enrollee_id'], axis=1)"
   ]
  },
  {
   "cell_type": "code",
   "execution_count": 9,
   "metadata": {},
   "outputs": [],
   "source": [
    "#using DownSampling - since no. of 1>> no. of 0 in target\n",
    "\n",
    "#1. separate based on target\n",
    "train0 = trainformodel[trainformodel.target==0]\n",
    "train1 = trainformodel[trainformodel.target==1]\n"
   ]
  },
  {
   "cell_type": "code",
   "execution_count": 12,
   "metadata": {},
   "outputs": [],
   "source": [
    "train0 = resample(train0, replace=False,n_samples=2425,random_state=123)"
   ]
  },
  {
   "cell_type": "code",
   "execution_count": 16,
   "metadata": {},
   "outputs": [],
   "source": [
    "newtrain = pd.concat([train0, train1])"
   ]
  },
  {
   "cell_type": "code",
   "execution_count": null,
   "metadata": {},
   "outputs": [],
   "source": []
  }
 ],
 "metadata": {
  "kernelspec": {
   "display_name": "Python 3",
   "language": "python",
   "name": "python3"
  },
  "language_info": {
   "codemirror_mode": {
    "name": "ipython",
    "version": 3
   },
   "file_extension": ".py",
   "mimetype": "text/x-python",
   "name": "python",
   "nbconvert_exporter": "python",
   "pygments_lexer": "ipython3",
   "version": "3.4.3"
  }
 },
 "nbformat": 4,
 "nbformat_minor": 2
}
